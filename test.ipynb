{
 "metadata": {
  "language_info": {
   "codemirror_mode": {
    "name": "ipython",
    "version": 3
   },
   "file_extension": ".py",
   "mimetype": "text/x-python",
   "name": "python",
   "nbconvert_exporter": "python",
   "pygments_lexer": "ipython3",
   "version": "3.9.4"
  },
  "orig_nbformat": 2,
  "kernelspec": {
   "name": "python394jvsc74a57bd053cb4faf80c77cdfe3531487c008b15840c2ae8bf32ca27ef1aecaa8414c03f2",
   "display_name": "Python 3.9.4 64-bit ('general': conda)"
  }
 },
 "nbformat": 4,
 "nbformat_minor": 2,
 "cells": [
  {
   "cell_type": "code",
   "execution_count": 3,
   "metadata": {},
   "outputs": [],
   "source": [
    "import numpy as np"
   ]
  },
  {
   "cell_type": "code",
   "execution_count": 4,
   "metadata": {},
   "outputs": [],
   "source": [
    "lt = np.array([666, 589])\n",
    "rt = np.array([865, 596])\n",
    "lb = np.array([658, 790])\n",
    "rb = np.array([860, 796])"
   ]
  },
  {
   "cell_type": "code",
   "execution_count": 6,
   "metadata": {},
   "outputs": [
    {
     "output_type": "execute_result",
     "data": {
      "text/plain": [
       "200.6084495000997"
      ]
     },
     "metadata": {},
     "execution_count": 6
    }
   ],
   "source": [
    "a = 0\n",
    "a += np.linalg.norm(lt - rt)\n",
    "a += np.linalg.norm(lb - rb)\n",
    "a += np.linalg.norm(lt - lb)\n",
    "a += np.linalg.norm(rt - rb)\n",
    "a /= 4\n",
    "a"
   ]
  },
  {
   "cell_type": "code",
   "execution_count": 11,
   "metadata": {},
   "outputs": [
    {
     "output_type": "execute_result",
     "data": {
      "text/plain": [
       "9.969692135906843e-05"
      ]
     },
     "metadata": {},
     "execution_count": 11
    }
   ],
   "source": [
    "(1 / 50) / 200.608"
   ]
  },
  {
   "cell_type": "code",
   "execution_count": 8,
   "metadata": {},
   "outputs": [
    {
     "output_type": "execute_result",
     "data": {
      "text/plain": [
       "281.4039380236922"
      ]
     },
     "metadata": {},
     "execution_count": 8
    }
   ],
   "source": [
    "lt = np.array([559, 704])\n",
    "rt = np.array([829, 693])\n",
    "lb = np.array([555, 987])\n",
    "rb = np.array([841, 979])\n",
    "\n",
    "a = 0\n",
    "a += np.linalg.norm(lt - rt)\n",
    "a += np.linalg.norm(lb - rb)\n",
    "a += np.linalg.norm(lt - lb)\n",
    "a += np.linalg.norm(rt - rb)\n",
    "a /= 4\n",
    "a"
   ]
  },
  {
   "cell_type": "code",
   "execution_count": 9,
   "metadata": {},
   "outputs": [
    {
     "output_type": "execute_result",
     "data": {
      "text/plain": [
       "70.13776569820051"
      ]
     },
     "metadata": {},
     "execution_count": 9
    }
   ],
   "source": [
    "a * (50 / 200.608)"
   ]
  },
  {
   "cell_type": "code",
   "execution_count": 14,
   "metadata": {},
   "outputs": [
    {
     "output_type": "execute_result",
     "data": {
      "text/plain": [
       "35.587188612099645"
      ]
     },
     "metadata": {},
     "execution_count": 14
    }
   ],
   "source": [
    "def D(l):\n",
    "    L = 7.5\n",
    "    F = 200 * 50 / 7.5\n",
    "    return F * L / l"
   ]
  },
  {
   "cell_type": "code",
   "execution_count": 15,
   "metadata": {},
   "outputs": [
    {
     "output_type": "execute_result",
     "data": {
      "text/plain": [
       "141.91122761207245"
      ]
     },
     "metadata": {},
     "execution_count": 15
    }
   ],
   "source": [
    "lt = np.array([707, 649])\n",
    "rt = np.array([848, 642])\n",
    "lb = np.array([714, 791])\n",
    "rb = np.array([855, 785])\n",
    "\n",
    "a = 0\n",
    "a += np.linalg.norm(lt - rt)\n",
    "a += np.linalg.norm(lb - rb)\n",
    "a += np.linalg.norm(lt - lb)\n",
    "a += np.linalg.norm(rt - rb)\n",
    "a /= 4\n",
    "a"
   ]
  },
  {
   "cell_type": "code",
   "execution_count": 16,
   "metadata": {},
   "outputs": [
    {
     "output_type": "execute_result",
     "data": {
      "text/plain": [
       "70.46658793859447"
      ]
     },
     "metadata": {},
     "execution_count": 16
    }
   ],
   "source": [
    "D(a)"
   ]
  },
  {
   "cell_type": "code",
   "execution_count": null,
   "metadata": {},
   "outputs": [],
   "source": []
  }
 ]
}